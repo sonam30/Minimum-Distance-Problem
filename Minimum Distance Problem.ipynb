{
 "cells": [
  {
   "cell_type": "code",
   "execution_count": 11,
   "metadata": {},
   "outputs": [],
   "source": [
    "import numpy as np\n",
    "from collections import Counter\n",
    "\n",
    "''' Read input from STDIN. Print your output to STDOUT '''\n",
    "    #Use input() to read input from STDIN and use print to write your output to STDOUT\n",
    "def calc_min_distance(cubicles):\n",
    "    \"\"\"\n",
    "    cubicales: 2xN list\n",
    "    \"\"\"\n",
    "    cubicles = np.array(cubicles)\n",
    "    managers_location = [[i, j] for i, r in enumerate(cubicles) for j, c in enumerate(r) if \"M\" in c][0]\n",
    "    a = [[i,j] for i, r in enumerate(cubicles) for j, c in enumerate(r) if \"V\" in c]\n",
    "    min_distance = min([abs(x[0]-managers_location[0]) + 2*abs(x[1]-managers_location[1]) for x in a])\n",
    "    return min_distance\n",
    "\n",
    "\n",
    "def main():\n",
    "\n",
    "    # Write code here \n",
    "    number_of_rows=int(input())\n",
    "    while (number_of_rows<1)|(number_of_rows>1000):\n",
    "        number_of_rows = int(input())\n",
    "\n",
    "    cubicles=[]\n",
    "    i = 0\n",
    "    valid_characters = set(\"OMV \")\n",
    "    overall_manager_flag = False\n",
    "    while i<number_of_rows:\n",
    "        pos=input().upper()\n",
    "        input_characters = set(pos)  \n",
    "\n",
    "        #check for valid input character\n",
    "        valid_char_flag = len(input_characters.difference(valid_characters))==0\n",
    "\n",
    "        # input should be length 9\n",
    "        input_length_flag = len(pos)==9\n",
    "        \n",
    "        block_length_flag = [len(x)==4 for x in pos.split(' ')]\n",
    "\n",
    "        #check for 2 partition\n",
    "        number_of_block_flag = len(block_length_flag)==2\n",
    "\n",
    "        counter = Counter(pos)    \n",
    "        #only one space\n",
    "        space_flag = counter[\" \"]==1\n",
    "\n",
    "        #only one manager\n",
    "        row_M = counter[\"M\"]   \n",
    "\n",
    "        #check for valid characters\n",
    "        if valid_char_flag and input_length_flag and (sum(block_length_flag)==2) and number_of_block_flag\\\n",
    "            and space_flag and number_of_block_flag and (row_M<=1):\n",
    "\n",
    "            if (not overall_manager_flag)&(row_M==1): \n",
    "                overall_manager_flag = True\n",
    "            pos_ = pos.split(\" \")\n",
    "            cubicles.append([pos_[0], pos_[1]])\n",
    "            i = i + 1\n",
    "        else:\n",
    "            pass\n",
    "        \n",
    "    #minimum distance\n",
    "    print(calc_min_distance(cubicles))"
   ]
  },
  {
   "cell_type": "code",
   "execution_count": 12,
   "metadata": {},
   "outputs": [
    {
     "name": "stdout",
     "output_type": "stream",
     "text": [
      "4\n",
      "OOOO OOOM\n",
      "OVOO OOOO\n",
      "OOVO OOVO\n",
      "OOOO OOOO\n",
      "2\n"
     ]
    }
   ],
   "source": [
    "main()"
   ]
  }
 ],
 "metadata": {
  "kernelspec": {
   "display_name": "Python 3",
   "language": "python",
   "name": "python3"
  },
  "language_info": {
   "codemirror_mode": {
    "name": "ipython",
    "version": 3
   },
   "file_extension": ".py",
   "mimetype": "text/x-python",
   "name": "python",
   "nbconvert_exporter": "python",
   "pygments_lexer": "ipython3",
   "version": "3.7.6"
  }
 },
 "nbformat": 4,
 "nbformat_minor": 4
}
